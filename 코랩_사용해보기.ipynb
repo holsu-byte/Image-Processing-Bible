{
  "nbformat": 4,
  "nbformat_minor": 0,
  "metadata": {
    "colab": {
      "provenance": [],
      "toc_visible": true,
      "gpuType": "T4",
      "authorship_tag": "ABX9TyNsKS3ONO17GLWh+yCtqfxU",
      "include_colab_link": true
    },
    "kernelspec": {
      "name": "python3",
      "display_name": "Python 3"
    },
    "language_info": {
      "name": "python"
    },
    "accelerator": "GPU"
  },
  "cells": [
    {
      "cell_type": "markdown",
      "metadata": {
        "id": "view-in-github",
        "colab_type": "text"
      },
      "source": [
        "<a href=\"https://colab.research.google.com/github/holsu-byte/Image-Processing-Bible/blob/main/%EC%BD%94%EB%9E%A9_%EC%82%AC%EC%9A%A9%ED%95%B4%EB%B3%B4%EA%B8%B0.ipynb\" target=\"_parent\"><img src=\"https://colab.research.google.com/assets/colab-badge.svg\" alt=\"Open In Colab\"/></a>"
      ]
    },
    {
      "cell_type": "code",
      "execution_count": null,
      "metadata": {
        "id": "fe9kXwkbOVpl"
      },
      "outputs": [],
      "source": []
    },
    {
      "cell_type": "markdown",
      "source": [
        "#대제목\n"
      ],
      "metadata": {
        "id": "YcfgGZd_QGV-"
      }
    },
    {
      "cell_type": "markdown",
      "source": [
        "##중제목"
      ],
      "metadata": {
        "id": "d9iKVnubQpda"
      }
    },
    {
      "cell_type": "markdown",
      "source": [
        "###소제목"
      ],
      "metadata": {
        "id": "FLJuzW2TQrom"
      }
    },
    {
      "cell_type": "markdown",
      "source": [],
      "metadata": {
        "id": "hb5D0ZyQQZR-"
      }
    }
  ]
}